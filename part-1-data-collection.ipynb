{
  "cells": [
    {
      "metadata": {},
      "cell_type": "markdown",
      "source": "## Data Collection for Auckland House Prices Analysis"
    },
    {
      "metadata": {
        "trusted": true
      },
      "cell_type": "code",
      "source": "import json\nimport sys\nsys.path.append('/home/nbuser/library')\nimport time\nimport pandas as pd\nimport requests",
      "execution_count": 1,
      "outputs": []
    },
    {
      "metadata": {
        "trusted": true
      },
      "cell_type": "code",
      "source": "def get_population(coor):\n    ''' Takes latitude and longitude coordinates as input, returns 2018 census population. '''\n    \n    time.sleep(0.2)\n    \n    url = 'https://koordinates.com/services/query/v1/vector.json'\n\n    params = {\n        'key': '9b1fa34ae901439e973320201766e864',\n        'layer': '104612',\n        'x': coor[1],\n        'y': coor[0],\n    }\n\n    response = requests.get(url, params=params)\n    \n    if response.status_code != 200:\n        return pd.Series({'Population': response.status_code})\n\n    pop = response.json()['vectorQuery']['layers']['104612']['features'][0]['properties']['C18_CURPop']\n    \n    return pd.Series({'Population': pop})",
      "execution_count": 2,
      "outputs": []
    },
    {
      "metadata": {
        "trusted": true
      },
      "cell_type": "code",
      "source": "df = pd.read_csv('Properties.csv')",
      "execution_count": 3,
      "outputs": []
    },
    {
      "metadata": {
        "trusted": true
      },
      "cell_type": "code",
      "source": "df.head()",
      "execution_count": 4,
      "outputs": [
        {
          "output_type": "execute_result",
          "execution_count": 4,
          "data": {
            "text/html": "<div>\n<style scoped>\n    .dataframe tbody tr th:only-of-type {\n        vertical-align: middle;\n    }\n\n    .dataframe tbody tr th {\n        vertical-align: top;\n    }\n\n    .dataframe thead th {\n        text-align: right;\n    }\n</style>\n<table border=\"1\" class=\"dataframe\">\n  <thead>\n    <tr style=\"text-align: right;\">\n      <th></th>\n      <th>Bedrooms</th>\n      <th>Bathrooms</th>\n      <th>Address</th>\n      <th>Land area</th>\n      <th>CV</th>\n      <th>Latitude</th>\n      <th>Longitude</th>\n      <th>SA1</th>\n      <th>0-19 years</th>\n      <th>20-29 years</th>\n      <th>30-39 years</th>\n      <th>40-49 years</th>\n      <th>50-59 years</th>\n      <th>60+ years</th>\n      <th>Suburbs</th>\n    </tr>\n  </thead>\n  <tbody>\n    <tr>\n      <th>0</th>\n      <td>5</td>\n      <td>3.0</td>\n      <td>106 Lawrence Crescent Hill Park, Auckland</td>\n      <td>714</td>\n      <td>960000</td>\n      <td>-37.012920</td>\n      <td>174.904069</td>\n      <td>7009770</td>\n      <td>48</td>\n      <td>27</td>\n      <td>24</td>\n      <td>21</td>\n      <td>24</td>\n      <td>21</td>\n      <td>Manurewa</td>\n    </tr>\n    <tr>\n      <th>1</th>\n      <td>5</td>\n      <td>3.0</td>\n      <td>8 Corsica Way Karaka, Auckland</td>\n      <td>564</td>\n      <td>1250000</td>\n      <td>-37.063672</td>\n      <td>174.922912</td>\n      <td>7009991</td>\n      <td>42</td>\n      <td>18</td>\n      <td>12</td>\n      <td>21</td>\n      <td>15</td>\n      <td>30</td>\n      <td>Karaka</td>\n    </tr>\n    <tr>\n      <th>2</th>\n      <td>6</td>\n      <td>4.0</td>\n      <td>243 Harbourside Drive Karaka, Auckland</td>\n      <td>626</td>\n      <td>1250000</td>\n      <td>-37.063580</td>\n      <td>174.924044</td>\n      <td>7009991</td>\n      <td>42</td>\n      <td>18</td>\n      <td>12</td>\n      <td>21</td>\n      <td>15</td>\n      <td>30</td>\n      <td>Karaka</td>\n    </tr>\n    <tr>\n      <th>3</th>\n      <td>2</td>\n      <td>1.0</td>\n      <td>2/30 Hardington Street Onehunga, Auckland</td>\n      <td>65</td>\n      <td>740000</td>\n      <td>-36.912996</td>\n      <td>174.787425</td>\n      <td>7007871</td>\n      <td>42</td>\n      <td>6</td>\n      <td>21</td>\n      <td>21</td>\n      <td>12</td>\n      <td>15</td>\n      <td>Onehunga</td>\n    </tr>\n    <tr>\n      <th>4</th>\n      <td>3</td>\n      <td>1.0</td>\n      <td>59 Israel Avenue Clover Park, Auckland</td>\n      <td>601</td>\n      <td>630000</td>\n      <td>-36.979037</td>\n      <td>174.892612</td>\n      <td>7008902</td>\n      <td>93</td>\n      <td>27</td>\n      <td>33</td>\n      <td>30</td>\n      <td>21</td>\n      <td>33</td>\n      <td>Clover Park</td>\n    </tr>\n  </tbody>\n</table>\n</div>",
            "text/plain": "   Bedrooms  Bathrooms                                    Address Land area  \\\n0         5        3.0  106 Lawrence Crescent Hill Park, Auckland       714   \n1         5        3.0             8 Corsica Way Karaka, Auckland       564   \n2         6        4.0     243 Harbourside Drive Karaka, Auckland       626   \n3         2        1.0  2/30 Hardington Street Onehunga, Auckland        65   \n4         3        1.0     59 Israel Avenue Clover Park, Auckland       601   \n\n        CV   Latitude   Longitude      SA1  0-19 years  20-29 years  \\\n0   960000 -37.012920  174.904069  7009770          48           27   \n1  1250000 -37.063672  174.922912  7009991          42           18   \n2  1250000 -37.063580  174.924044  7009991          42           18   \n3   740000 -36.912996  174.787425  7007871          42            6   \n4   630000 -36.979037  174.892612  7008902          93           27   \n\n   30-39 years  40-49 years  50-59 years  60+ years      Suburbs  \n0           24           21           24         21     Manurewa  \n1           12           21           15         30       Karaka  \n2           12           21           15         30       Karaka  \n3           21           21           12         15     Onehunga  \n4           33           30           21         33  Clover Park  "
          },
          "metadata": {}
        }
      ]
    },
    {
      "metadata": {
        "trusted": true
      },
      "cell_type": "code",
      "source": "def combine_lat_lon(lat, lon):\n    return (lat, lon)",
      "execution_count": 5,
      "outputs": []
    },
    {
      "metadata": {
        "trusted": true
      },
      "cell_type": "code",
      "source": "df['Combined coordinates'] = df.apply(lambda x : combine_lat_lon(x['Latitude'], x['Longitude']), axis = 1)",
      "execution_count": 6,
      "outputs": []
    },
    {
      "metadata": {
        "trusted": true
      },
      "cell_type": "code",
      "source": "df.head()",
      "execution_count": 7,
      "outputs": [
        {
          "output_type": "execute_result",
          "execution_count": 7,
          "data": {
            "text/html": "<div>\n<style scoped>\n    .dataframe tbody tr th:only-of-type {\n        vertical-align: middle;\n    }\n\n    .dataframe tbody tr th {\n        vertical-align: top;\n    }\n\n    .dataframe thead th {\n        text-align: right;\n    }\n</style>\n<table border=\"1\" class=\"dataframe\">\n  <thead>\n    <tr style=\"text-align: right;\">\n      <th></th>\n      <th>Bedrooms</th>\n      <th>Bathrooms</th>\n      <th>Address</th>\n      <th>Land area</th>\n      <th>CV</th>\n      <th>Latitude</th>\n      <th>Longitude</th>\n      <th>SA1</th>\n      <th>0-19 years</th>\n      <th>20-29 years</th>\n      <th>30-39 years</th>\n      <th>40-49 years</th>\n      <th>50-59 years</th>\n      <th>60+ years</th>\n      <th>Suburbs</th>\n      <th>Combined coordinates</th>\n    </tr>\n  </thead>\n  <tbody>\n    <tr>\n      <th>0</th>\n      <td>5</td>\n      <td>3.0</td>\n      <td>106 Lawrence Crescent Hill Park, Auckland</td>\n      <td>714</td>\n      <td>960000</td>\n      <td>-37.012920</td>\n      <td>174.904069</td>\n      <td>7009770</td>\n      <td>48</td>\n      <td>27</td>\n      <td>24</td>\n      <td>21</td>\n      <td>24</td>\n      <td>21</td>\n      <td>Manurewa</td>\n      <td>(-37.0129205, 174.90406940000003)</td>\n    </tr>\n    <tr>\n      <th>1</th>\n      <td>5</td>\n      <td>3.0</td>\n      <td>8 Corsica Way Karaka, Auckland</td>\n      <td>564</td>\n      <td>1250000</td>\n      <td>-37.063672</td>\n      <td>174.922912</td>\n      <td>7009991</td>\n      <td>42</td>\n      <td>18</td>\n      <td>12</td>\n      <td>21</td>\n      <td>15</td>\n      <td>30</td>\n      <td>Karaka</td>\n      <td>(-37.0636724, 174.9229121)</td>\n    </tr>\n    <tr>\n      <th>2</th>\n      <td>6</td>\n      <td>4.0</td>\n      <td>243 Harbourside Drive Karaka, Auckland</td>\n      <td>626</td>\n      <td>1250000</td>\n      <td>-37.063580</td>\n      <td>174.924044</td>\n      <td>7009991</td>\n      <td>42</td>\n      <td>18</td>\n      <td>12</td>\n      <td>21</td>\n      <td>15</td>\n      <td>30</td>\n      <td>Karaka</td>\n      <td>(-37.063579700000005, 174.9240444)</td>\n    </tr>\n    <tr>\n      <th>3</th>\n      <td>2</td>\n      <td>1.0</td>\n      <td>2/30 Hardington Street Onehunga, Auckland</td>\n      <td>65</td>\n      <td>740000</td>\n      <td>-36.912996</td>\n      <td>174.787425</td>\n      <td>7007871</td>\n      <td>42</td>\n      <td>6</td>\n      <td>21</td>\n      <td>21</td>\n      <td>12</td>\n      <td>15</td>\n      <td>Onehunga</td>\n      <td>(-36.9129964, 174.78742490000002)</td>\n    </tr>\n    <tr>\n      <th>4</th>\n      <td>3</td>\n      <td>1.0</td>\n      <td>59 Israel Avenue Clover Park, Auckland</td>\n      <td>601</td>\n      <td>630000</td>\n      <td>-36.979037</td>\n      <td>174.892612</td>\n      <td>7008902</td>\n      <td>93</td>\n      <td>27</td>\n      <td>33</td>\n      <td>30</td>\n      <td>21</td>\n      <td>33</td>\n      <td>Clover Park</td>\n      <td>(-36.979036900000004, 174.8926119)</td>\n    </tr>\n  </tbody>\n</table>\n</div>",
            "text/plain": "   Bedrooms  Bathrooms                                    Address Land area  \\\n0         5        3.0  106 Lawrence Crescent Hill Park, Auckland       714   \n1         5        3.0             8 Corsica Way Karaka, Auckland       564   \n2         6        4.0     243 Harbourside Drive Karaka, Auckland       626   \n3         2        1.0  2/30 Hardington Street Onehunga, Auckland        65   \n4         3        1.0     59 Israel Avenue Clover Park, Auckland       601   \n\n        CV   Latitude   Longitude      SA1  0-19 years  20-29 years  \\\n0   960000 -37.012920  174.904069  7009770          48           27   \n1  1250000 -37.063672  174.922912  7009991          42           18   \n2  1250000 -37.063580  174.924044  7009991          42           18   \n3   740000 -36.912996  174.787425  7007871          42            6   \n4   630000 -36.979037  174.892612  7008902          93           27   \n\n   30-39 years  40-49 years  50-59 years  60+ years      Suburbs  \\\n0           24           21           24         21     Manurewa   \n1           12           21           15         30       Karaka   \n2           12           21           15         30       Karaka   \n3           21           21           12         15     Onehunga   \n4           33           30           21         33  Clover Park   \n\n                 Combined coordinates  \n0   (-37.0129205, 174.90406940000003)  \n1          (-37.0636724, 174.9229121)  \n2  (-37.063579700000005, 174.9240444)  \n3   (-36.9129964, 174.78742490000002)  \n4  (-36.979036900000004, 174.8926119)  "
          },
          "metadata": {}
        }
      ]
    },
    {
      "metadata": {
        "trusted": true
      },
      "cell_type": "code",
      "source": "sample = df.head(5)\nsample",
      "execution_count": 8,
      "outputs": [
        {
          "output_type": "execute_result",
          "execution_count": 8,
          "data": {
            "text/html": "<div>\n<style scoped>\n    .dataframe tbody tr th:only-of-type {\n        vertical-align: middle;\n    }\n\n    .dataframe tbody tr th {\n        vertical-align: top;\n    }\n\n    .dataframe thead th {\n        text-align: right;\n    }\n</style>\n<table border=\"1\" class=\"dataframe\">\n  <thead>\n    <tr style=\"text-align: right;\">\n      <th></th>\n      <th>Bedrooms</th>\n      <th>Bathrooms</th>\n      <th>Address</th>\n      <th>Land area</th>\n      <th>CV</th>\n      <th>Latitude</th>\n      <th>Longitude</th>\n      <th>SA1</th>\n      <th>0-19 years</th>\n      <th>20-29 years</th>\n      <th>30-39 years</th>\n      <th>40-49 years</th>\n      <th>50-59 years</th>\n      <th>60+ years</th>\n      <th>Suburbs</th>\n      <th>Combined coordinates</th>\n    </tr>\n  </thead>\n  <tbody>\n    <tr>\n      <th>0</th>\n      <td>5</td>\n      <td>3.0</td>\n      <td>106 Lawrence Crescent Hill Park, Auckland</td>\n      <td>714</td>\n      <td>960000</td>\n      <td>-37.012920</td>\n      <td>174.904069</td>\n      <td>7009770</td>\n      <td>48</td>\n      <td>27</td>\n      <td>24</td>\n      <td>21</td>\n      <td>24</td>\n      <td>21</td>\n      <td>Manurewa</td>\n      <td>(-37.0129205, 174.90406940000003)</td>\n    </tr>\n    <tr>\n      <th>1</th>\n      <td>5</td>\n      <td>3.0</td>\n      <td>8 Corsica Way Karaka, Auckland</td>\n      <td>564</td>\n      <td>1250000</td>\n      <td>-37.063672</td>\n      <td>174.922912</td>\n      <td>7009991</td>\n      <td>42</td>\n      <td>18</td>\n      <td>12</td>\n      <td>21</td>\n      <td>15</td>\n      <td>30</td>\n      <td>Karaka</td>\n      <td>(-37.0636724, 174.9229121)</td>\n    </tr>\n    <tr>\n      <th>2</th>\n      <td>6</td>\n      <td>4.0</td>\n      <td>243 Harbourside Drive Karaka, Auckland</td>\n      <td>626</td>\n      <td>1250000</td>\n      <td>-37.063580</td>\n      <td>174.924044</td>\n      <td>7009991</td>\n      <td>42</td>\n      <td>18</td>\n      <td>12</td>\n      <td>21</td>\n      <td>15</td>\n      <td>30</td>\n      <td>Karaka</td>\n      <td>(-37.063579700000005, 174.9240444)</td>\n    </tr>\n    <tr>\n      <th>3</th>\n      <td>2</td>\n      <td>1.0</td>\n      <td>2/30 Hardington Street Onehunga, Auckland</td>\n      <td>65</td>\n      <td>740000</td>\n      <td>-36.912996</td>\n      <td>174.787425</td>\n      <td>7007871</td>\n      <td>42</td>\n      <td>6</td>\n      <td>21</td>\n      <td>21</td>\n      <td>12</td>\n      <td>15</td>\n      <td>Onehunga</td>\n      <td>(-36.9129964, 174.78742490000002)</td>\n    </tr>\n    <tr>\n      <th>4</th>\n      <td>3</td>\n      <td>1.0</td>\n      <td>59 Israel Avenue Clover Park, Auckland</td>\n      <td>601</td>\n      <td>630000</td>\n      <td>-36.979037</td>\n      <td>174.892612</td>\n      <td>7008902</td>\n      <td>93</td>\n      <td>27</td>\n      <td>33</td>\n      <td>30</td>\n      <td>21</td>\n      <td>33</td>\n      <td>Clover Park</td>\n      <td>(-36.979036900000004, 174.8926119)</td>\n    </tr>\n  </tbody>\n</table>\n</div>",
            "text/plain": "   Bedrooms  Bathrooms                                    Address Land area  \\\n0         5        3.0  106 Lawrence Crescent Hill Park, Auckland       714   \n1         5        3.0             8 Corsica Way Karaka, Auckland       564   \n2         6        4.0     243 Harbourside Drive Karaka, Auckland       626   \n3         2        1.0  2/30 Hardington Street Onehunga, Auckland        65   \n4         3        1.0     59 Israel Avenue Clover Park, Auckland       601   \n\n        CV   Latitude   Longitude      SA1  0-19 years  20-29 years  \\\n0   960000 -37.012920  174.904069  7009770          48           27   \n1  1250000 -37.063672  174.922912  7009991          42           18   \n2  1250000 -37.063580  174.924044  7009991          42           18   \n3   740000 -36.912996  174.787425  7007871          42            6   \n4   630000 -36.979037  174.892612  7008902          93           27   \n\n   30-39 years  40-49 years  50-59 years  60+ years      Suburbs  \\\n0           24           21           24         21     Manurewa   \n1           12           21           15         30       Karaka   \n2           12           21           15         30       Karaka   \n3           21           21           12         15     Onehunga   \n4           33           30           21         33  Clover Park   \n\n                 Combined coordinates  \n0   (-37.0129205, 174.90406940000003)  \n1          (-37.0636724, 174.9229121)  \n2  (-37.063579700000005, 174.9240444)  \n3   (-36.9129964, 174.78742490000002)  \n4  (-36.979036900000004, 174.8926119)  "
          },
          "metadata": {}
        }
      ]
    },
    {
      "metadata": {
        "trusted": true
      },
      "cell_type": "code",
      "source": "sample['Population'] = sample['Combined coordinates'].apply(get_population)",
      "execution_count": 9,
      "outputs": [
        {
          "output_type": "stream",
          "text": "/home/nbuser/anaconda3_501/lib/python3.6/site-packages/ipykernel/__main__.py:1: SettingWithCopyWarning: \nA value is trying to be set on a copy of a slice from a DataFrame.\nTry using .loc[row_indexer,col_indexer] = value instead\n\nSee the caveats in the documentation: http://pandas.pydata.org/pandas-docs/stable/indexing.html#indexing-view-versus-copy\n  if __name__ == '__main__':\n",
          "name": "stderr"
        }
      ]
    },
    {
      "metadata": {
        "trusted": true
      },
      "cell_type": "code",
      "source": "sample",
      "execution_count": 10,
      "outputs": [
        {
          "output_type": "execute_result",
          "execution_count": 10,
          "data": {
            "text/html": "<div>\n<style scoped>\n    .dataframe tbody tr th:only-of-type {\n        vertical-align: middle;\n    }\n\n    .dataframe tbody tr th {\n        vertical-align: top;\n    }\n\n    .dataframe thead th {\n        text-align: right;\n    }\n</style>\n<table border=\"1\" class=\"dataframe\">\n  <thead>\n    <tr style=\"text-align: right;\">\n      <th></th>\n      <th>Bedrooms</th>\n      <th>Bathrooms</th>\n      <th>Address</th>\n      <th>Land area</th>\n      <th>CV</th>\n      <th>Latitude</th>\n      <th>Longitude</th>\n      <th>SA1</th>\n      <th>0-19 years</th>\n      <th>20-29 years</th>\n      <th>30-39 years</th>\n      <th>40-49 years</th>\n      <th>50-59 years</th>\n      <th>60+ years</th>\n      <th>Suburbs</th>\n      <th>Combined coordinates</th>\n      <th>Population</th>\n    </tr>\n  </thead>\n  <tbody>\n    <tr>\n      <th>0</th>\n      <td>5</td>\n      <td>3.0</td>\n      <td>106 Lawrence Crescent Hill Park, Auckland</td>\n      <td>714</td>\n      <td>960000</td>\n      <td>-37.012920</td>\n      <td>174.904069</td>\n      <td>7009770</td>\n      <td>48</td>\n      <td>27</td>\n      <td>24</td>\n      <td>21</td>\n      <td>24</td>\n      <td>21</td>\n      <td>Manurewa</td>\n      <td>(-37.0129205, 174.90406940000003)</td>\n      <td>174</td>\n    </tr>\n    <tr>\n      <th>1</th>\n      <td>5</td>\n      <td>3.0</td>\n      <td>8 Corsica Way Karaka, Auckland</td>\n      <td>564</td>\n      <td>1250000</td>\n      <td>-37.063672</td>\n      <td>174.922912</td>\n      <td>7009991</td>\n      <td>42</td>\n      <td>18</td>\n      <td>12</td>\n      <td>21</td>\n      <td>15</td>\n      <td>30</td>\n      <td>Karaka</td>\n      <td>(-37.0636724, 174.9229121)</td>\n      <td>129</td>\n    </tr>\n    <tr>\n      <th>2</th>\n      <td>6</td>\n      <td>4.0</td>\n      <td>243 Harbourside Drive Karaka, Auckland</td>\n      <td>626</td>\n      <td>1250000</td>\n      <td>-37.063580</td>\n      <td>174.924044</td>\n      <td>7009991</td>\n      <td>42</td>\n      <td>18</td>\n      <td>12</td>\n      <td>21</td>\n      <td>15</td>\n      <td>30</td>\n      <td>Karaka</td>\n      <td>(-37.063579700000005, 174.9240444)</td>\n      <td>129</td>\n    </tr>\n    <tr>\n      <th>3</th>\n      <td>2</td>\n      <td>1.0</td>\n      <td>2/30 Hardington Street Onehunga, Auckland</td>\n      <td>65</td>\n      <td>740000</td>\n      <td>-36.912996</td>\n      <td>174.787425</td>\n      <td>7007871</td>\n      <td>42</td>\n      <td>6</td>\n      <td>21</td>\n      <td>21</td>\n      <td>12</td>\n      <td>15</td>\n      <td>Onehunga</td>\n      <td>(-36.9129964, 174.78742490000002)</td>\n      <td>120</td>\n    </tr>\n    <tr>\n      <th>4</th>\n      <td>3</td>\n      <td>1.0</td>\n      <td>59 Israel Avenue Clover Park, Auckland</td>\n      <td>601</td>\n      <td>630000</td>\n      <td>-36.979037</td>\n      <td>174.892612</td>\n      <td>7008902</td>\n      <td>93</td>\n      <td>27</td>\n      <td>33</td>\n      <td>30</td>\n      <td>21</td>\n      <td>33</td>\n      <td>Clover Park</td>\n      <td>(-36.979036900000004, 174.8926119)</td>\n      <td>231</td>\n    </tr>\n  </tbody>\n</table>\n</div>",
            "text/plain": "   Bedrooms  Bathrooms                                    Address Land area  \\\n0         5        3.0  106 Lawrence Crescent Hill Park, Auckland       714   \n1         5        3.0             8 Corsica Way Karaka, Auckland       564   \n2         6        4.0     243 Harbourside Drive Karaka, Auckland       626   \n3         2        1.0  2/30 Hardington Street Onehunga, Auckland        65   \n4         3        1.0     59 Israel Avenue Clover Park, Auckland       601   \n\n        CV   Latitude   Longitude      SA1  0-19 years  20-29 years  \\\n0   960000 -37.012920  174.904069  7009770          48           27   \n1  1250000 -37.063672  174.922912  7009991          42           18   \n2  1250000 -37.063580  174.924044  7009991          42           18   \n3   740000 -36.912996  174.787425  7007871          42            6   \n4   630000 -36.979037  174.892612  7008902          93           27   \n\n   30-39 years  40-49 years  50-59 years  60+ years      Suburbs  \\\n0           24           21           24         21     Manurewa   \n1           12           21           15         30       Karaka   \n2           12           21           15         30       Karaka   \n3           21           21           12         15     Onehunga   \n4           33           30           21         33  Clover Park   \n\n                 Combined coordinates  Population  \n0   (-37.0129205, 174.90406940000003)         174  \n1          (-37.0636724, 174.9229121)         129  \n2  (-37.063579700000005, 174.9240444)         129  \n3   (-36.9129964, 174.78742490000002)         120  \n4  (-36.979036900000004, 174.8926119)         231  "
          },
          "metadata": {}
        }
      ]
    },
    {
      "metadata": {},
      "cell_type": "markdown",
      "source": "#### Add population to dataframe"
    },
    {
      "metadata": {
        "trusted": true
      },
      "cell_type": "code",
      "source": "df['Population'] = df['Combined coordinates'].apply(get_population)",
      "execution_count": 11,
      "outputs": []
    },
    {
      "metadata": {
        "trusted": true
      },
      "cell_type": "code",
      "source": "df.tail()",
      "execution_count": 12,
      "outputs": [
        {
          "output_type": "execute_result",
          "execution_count": 12,
          "data": {
            "text/html": "<div>\n<style scoped>\n    .dataframe tbody tr th:only-of-type {\n        vertical-align: middle;\n    }\n\n    .dataframe tbody tr th {\n        vertical-align: top;\n    }\n\n    .dataframe thead th {\n        text-align: right;\n    }\n</style>\n<table border=\"1\" class=\"dataframe\">\n  <thead>\n    <tr style=\"text-align: right;\">\n      <th></th>\n      <th>Bedrooms</th>\n      <th>Bathrooms</th>\n      <th>Address</th>\n      <th>Land area</th>\n      <th>CV</th>\n      <th>Latitude</th>\n      <th>Longitude</th>\n      <th>SA1</th>\n      <th>0-19 years</th>\n      <th>20-29 years</th>\n      <th>30-39 years</th>\n      <th>40-49 years</th>\n      <th>50-59 years</th>\n      <th>60+ years</th>\n      <th>Suburbs</th>\n      <th>Combined coordinates</th>\n      <th>Population</th>\n    </tr>\n  </thead>\n  <tbody>\n    <tr>\n      <th>1046</th>\n      <td>4</td>\n      <td>1.0</td>\n      <td>19 Landscape Road, Auckland</td>\n      <td>1368 m²</td>\n      <td>670000</td>\n      <td>-36.899255</td>\n      <td>174.761165</td>\n      <td>7005464</td>\n      <td>54</td>\n      <td>18</td>\n      <td>15</td>\n      <td>24</td>\n      <td>21</td>\n      <td>27</td>\n      <td>Mount Eden</td>\n      <td>(-36.899255, 174.7611645)</td>\n      <td>159</td>\n    </tr>\n    <tr>\n      <th>1047</th>\n      <td>6</td>\n      <td>1.0</td>\n      <td>56 Galway Street, Auckland</td>\n      <td>607 m²</td>\n      <td>1200000</td>\n      <td>-36.844933</td>\n      <td>174.770001</td>\n      <td>7005497</td>\n      <td>15</td>\n      <td>27</td>\n      <td>24</td>\n      <td>15</td>\n      <td>18</td>\n      <td>30</td>\n      <td>Auckland Central</td>\n      <td>(-36.844933000000005, 174.770001)</td>\n      <td>129</td>\n    </tr>\n    <tr>\n      <th>1048</th>\n      <td>5</td>\n      <td>3.0</td>\n      <td>28A Hayr Road, Auckland</td>\n      <td>453 m²</td>\n      <td>1250000</td>\n      <td>-36.912242</td>\n      <td>174.756726</td>\n      <td>7007758</td>\n      <td>36</td>\n      <td>30</td>\n      <td>45</td>\n      <td>21</td>\n      <td>24</td>\n      <td>21</td>\n      <td>Three Kings</td>\n      <td>(-36.9122424, 174.75672590000002)</td>\n      <td>180</td>\n    </tr>\n    <tr>\n      <th>1049</th>\n      <td>5</td>\n      <td>2.0</td>\n      <td>27 Market Road, Auckland</td>\n      <td>1854 m²</td>\n      <td>5300000</td>\n      <td>-36.879665</td>\n      <td>174.787668</td>\n      <td>7005745</td>\n      <td>48</td>\n      <td>18</td>\n      <td>12</td>\n      <td>15</td>\n      <td>36</td>\n      <td>45</td>\n      <td>Remuera</td>\n      <td>(-36.8796648, 174.7876684)</td>\n      <td>174</td>\n    </tr>\n    <tr>\n      <th>1050</th>\n      <td>3</td>\n      <td>1.0</td>\n      <td>23 William Avenue, Auckland</td>\n      <td>806 m²</td>\n      <td>1665000</td>\n      <td>-36.897104</td>\n      <td>174.800171</td>\n      <td>7005917</td>\n      <td>54</td>\n      <td>33</td>\n      <td>27</td>\n      <td>27</td>\n      <td>15</td>\n      <td>30</td>\n      <td>Greenlane</td>\n      <td>(-36.897104299999995, 174.8001712)</td>\n      <td>192</td>\n    </tr>\n  </tbody>\n</table>\n</div>",
            "text/plain": "      Bedrooms  Bathrooms                      Address Land area       CV  \\\n1046         4        1.0  19 Landscape Road, Auckland   1368 m²   670000   \n1047         6        1.0   56 Galway Street, Auckland    607 m²  1200000   \n1048         5        3.0      28A Hayr Road, Auckland    453 m²  1250000   \n1049         5        2.0     27 Market Road, Auckland   1854 m²  5300000   \n1050         3        1.0  23 William Avenue, Auckland    806 m²  1665000   \n\n       Latitude   Longitude      SA1  0-19 years  20-29 years  30-39 years  \\\n1046 -36.899255  174.761165  7005464          54           18           15   \n1047 -36.844933  174.770001  7005497          15           27           24   \n1048 -36.912242  174.756726  7007758          36           30           45   \n1049 -36.879665  174.787668  7005745          48           18           12   \n1050 -36.897104  174.800171  7005917          54           33           27   \n\n      40-49 years  50-59 years  60+ years           Suburbs  \\\n1046           24           21         27        Mount Eden   \n1047           15           18         30  Auckland Central   \n1048           21           24         21       Three Kings   \n1049           15           36         45           Remuera   \n1050           27           15         30         Greenlane   \n\n                    Combined coordinates  Population  \n1046           (-36.899255, 174.7611645)         159  \n1047   (-36.844933000000005, 174.770001)         129  \n1048   (-36.9122424, 174.75672590000002)         180  \n1049          (-36.8796648, 174.7876684)         174  \n1050  (-36.897104299999995, 174.8001712)         192  "
          },
          "metadata": {}
        }
      ]
    },
    {
      "metadata": {},
      "cell_type": "markdown",
      "source": "#### Save dataframe with population to csv"
    },
    {
      "metadata": {
        "trusted": true
      },
      "cell_type": "code",
      "source": "df.to_csv('add-population.csv')",
      "execution_count": 13,
      "outputs": []
    },
    {
      "metadata": {},
      "cell_type": "markdown",
      "source": "#### Read Deprivation index data file"
    },
    {
      "metadata": {
        "trusted": true
      },
      "cell_type": "code",
      "source": "df2 = pd.read_excel('otago730395.xlsx')",
      "execution_count": 14,
      "outputs": []
    },
    {
      "metadata": {
        "trusted": true
      },
      "cell_type": "code",
      "source": "df2.head()",
      "execution_count": 15,
      "outputs": [
        {
          "output_type": "execute_result",
          "execution_count": 15,
          "data": {
            "text/html": "<div>\n<style scoped>\n    .dataframe tbody tr th:only-of-type {\n        vertical-align: middle;\n    }\n\n    .dataframe tbody tr th {\n        vertical-align: top;\n    }\n\n    .dataframe thead th {\n        text-align: right;\n    }\n</style>\n<table border=\"1\" class=\"dataframe\">\n  <thead>\n    <tr style=\"text-align: right;\">\n      <th></th>\n      <th>SA12018_code</th>\n      <th>NZDep2018</th>\n      <th>NZDep2018_Score</th>\n      <th>URPopnSA1_2018</th>\n      <th>SA22018_code</th>\n      <th>SA22018_name</th>\n    </tr>\n  </thead>\n  <tbody>\n    <tr>\n      <th>0</th>\n      <td>7000000</td>\n      <td>10.0</td>\n      <td>1245.0</td>\n      <td>141</td>\n      <td>100100</td>\n      <td>North Cape</td>\n    </tr>\n    <tr>\n      <th>1</th>\n      <td>7000001</td>\n      <td>10.0</td>\n      <td>1245.0</td>\n      <td>114</td>\n      <td>100100</td>\n      <td>North Cape</td>\n    </tr>\n    <tr>\n      <th>2</th>\n      <td>7000002</td>\n      <td>NaN</td>\n      <td>NaN</td>\n      <td>0</td>\n      <td>100300</td>\n      <td>Inlets Far North District</td>\n    </tr>\n    <tr>\n      <th>3</th>\n      <td>7000003</td>\n      <td>10.0</td>\n      <td>1207.0</td>\n      <td>225</td>\n      <td>100100</td>\n      <td>North Cape</td>\n    </tr>\n    <tr>\n      <th>4</th>\n      <td>7000004</td>\n      <td>9.0</td>\n      <td>1093.0</td>\n      <td>138</td>\n      <td>100100</td>\n      <td>North Cape</td>\n    </tr>\n  </tbody>\n</table>\n</div>",
            "text/plain": "   SA12018_code  NZDep2018  NZDep2018_Score  URPopnSA1_2018  SA22018_code  \\\n0       7000000       10.0           1245.0             141        100100   \n1       7000001       10.0           1245.0             114        100100   \n2       7000002        NaN              NaN               0        100300   \n3       7000003       10.0           1207.0             225        100100   \n4       7000004        9.0           1093.0             138        100100   \n\n                SA22018_name  \n0                 North Cape  \n1                 North Cape  \n2  Inlets Far North District  \n3                 North Cape  \n4                 North Cape  "
          },
          "metadata": {}
        }
      ]
    },
    {
      "metadata": {
        "trusted": true
      },
      "cell_type": "code",
      "source": "sample.merge(df2[['NZDep2018', 'NZDep2018_Score', 'SA12018_code']], 'left', left_on='SA1', right_on='SA12018_code').drop('SA12018_code', axis=1)",
      "execution_count": 16,
      "outputs": [
        {
          "output_type": "execute_result",
          "execution_count": 16,
          "data": {
            "text/html": "<div>\n<style scoped>\n    .dataframe tbody tr th:only-of-type {\n        vertical-align: middle;\n    }\n\n    .dataframe tbody tr th {\n        vertical-align: top;\n    }\n\n    .dataframe thead th {\n        text-align: right;\n    }\n</style>\n<table border=\"1\" class=\"dataframe\">\n  <thead>\n    <tr style=\"text-align: right;\">\n      <th></th>\n      <th>Bedrooms</th>\n      <th>Bathrooms</th>\n      <th>Address</th>\n      <th>Land area</th>\n      <th>CV</th>\n      <th>Latitude</th>\n      <th>Longitude</th>\n      <th>SA1</th>\n      <th>0-19 years</th>\n      <th>20-29 years</th>\n      <th>30-39 years</th>\n      <th>40-49 years</th>\n      <th>50-59 years</th>\n      <th>60+ years</th>\n      <th>Suburbs</th>\n      <th>Combined coordinates</th>\n      <th>Population</th>\n      <th>NZDep2018</th>\n      <th>NZDep2018_Score</th>\n    </tr>\n  </thead>\n  <tbody>\n    <tr>\n      <th>0</th>\n      <td>5</td>\n      <td>3.0</td>\n      <td>106 Lawrence Crescent Hill Park, Auckland</td>\n      <td>714</td>\n      <td>960000</td>\n      <td>-37.012920</td>\n      <td>174.904069</td>\n      <td>7009770</td>\n      <td>48</td>\n      <td>27</td>\n      <td>24</td>\n      <td>21</td>\n      <td>24</td>\n      <td>21</td>\n      <td>Manurewa</td>\n      <td>(-37.0129205, 174.90406940000003)</td>\n      <td>174</td>\n      <td>6.0</td>\n      <td>997.0</td>\n    </tr>\n    <tr>\n      <th>1</th>\n      <td>5</td>\n      <td>3.0</td>\n      <td>8 Corsica Way Karaka, Auckland</td>\n      <td>564</td>\n      <td>1250000</td>\n      <td>-37.063672</td>\n      <td>174.922912</td>\n      <td>7009991</td>\n      <td>42</td>\n      <td>18</td>\n      <td>12</td>\n      <td>21</td>\n      <td>15</td>\n      <td>30</td>\n      <td>Karaka</td>\n      <td>(-37.0636724, 174.9229121)</td>\n      <td>129</td>\n      <td>1.0</td>\n      <td>881.0</td>\n    </tr>\n    <tr>\n      <th>2</th>\n      <td>6</td>\n      <td>4.0</td>\n      <td>243 Harbourside Drive Karaka, Auckland</td>\n      <td>626</td>\n      <td>1250000</td>\n      <td>-37.063580</td>\n      <td>174.924044</td>\n      <td>7009991</td>\n      <td>42</td>\n      <td>18</td>\n      <td>12</td>\n      <td>21</td>\n      <td>15</td>\n      <td>30</td>\n      <td>Karaka</td>\n      <td>(-37.063579700000005, 174.9240444)</td>\n      <td>129</td>\n      <td>1.0</td>\n      <td>881.0</td>\n    </tr>\n    <tr>\n      <th>3</th>\n      <td>2</td>\n      <td>1.0</td>\n      <td>2/30 Hardington Street Onehunga, Auckland</td>\n      <td>65</td>\n      <td>740000</td>\n      <td>-36.912996</td>\n      <td>174.787425</td>\n      <td>7007871</td>\n      <td>42</td>\n      <td>6</td>\n      <td>21</td>\n      <td>21</td>\n      <td>12</td>\n      <td>15</td>\n      <td>Onehunga</td>\n      <td>(-36.9129964, 174.78742490000002)</td>\n      <td>120</td>\n      <td>2.0</td>\n      <td>908.0</td>\n    </tr>\n    <tr>\n      <th>4</th>\n      <td>3</td>\n      <td>1.0</td>\n      <td>59 Israel Avenue Clover Park, Auckland</td>\n      <td>601</td>\n      <td>630000</td>\n      <td>-36.979037</td>\n      <td>174.892612</td>\n      <td>7008902</td>\n      <td>93</td>\n      <td>27</td>\n      <td>33</td>\n      <td>30</td>\n      <td>21</td>\n      <td>33</td>\n      <td>Clover Park</td>\n      <td>(-36.979036900000004, 174.8926119)</td>\n      <td>231</td>\n      <td>9.0</td>\n      <td>1091.0</td>\n    </tr>\n  </tbody>\n</table>\n</div>",
            "text/plain": "   Bedrooms  Bathrooms                                    Address Land area  \\\n0         5        3.0  106 Lawrence Crescent Hill Park, Auckland       714   \n1         5        3.0             8 Corsica Way Karaka, Auckland       564   \n2         6        4.0     243 Harbourside Drive Karaka, Auckland       626   \n3         2        1.0  2/30 Hardington Street Onehunga, Auckland        65   \n4         3        1.0     59 Israel Avenue Clover Park, Auckland       601   \n\n        CV   Latitude   Longitude      SA1  0-19 years  20-29 years  \\\n0   960000 -37.012920  174.904069  7009770          48           27   \n1  1250000 -37.063672  174.922912  7009991          42           18   \n2  1250000 -37.063580  174.924044  7009991          42           18   \n3   740000 -36.912996  174.787425  7007871          42            6   \n4   630000 -36.979037  174.892612  7008902          93           27   \n\n   30-39 years  40-49 years  50-59 years  60+ years      Suburbs  \\\n0           24           21           24         21     Manurewa   \n1           12           21           15         30       Karaka   \n2           12           21           15         30       Karaka   \n3           21           21           12         15     Onehunga   \n4           33           30           21         33  Clover Park   \n\n                 Combined coordinates  Population  NZDep2018  NZDep2018_Score  \n0   (-37.0129205, 174.90406940000003)         174        6.0            997.0  \n1          (-37.0636724, 174.9229121)         129        1.0            881.0  \n2  (-37.063579700000005, 174.9240444)         129        1.0            881.0  \n3   (-36.9129964, 174.78742490000002)         120        2.0            908.0  \n4  (-36.979036900000004, 174.8926119)         231        9.0           1091.0  "
          },
          "metadata": {}
        }
      ]
    },
    {
      "metadata": {},
      "cell_type": "markdown",
      "source": "#### Add Deprivation index to dataframe"
    },
    {
      "metadata": {
        "trusted": true
      },
      "cell_type": "code",
      "source": "df = df.merge(df2[['NZDep2018', 'NZDep2018_Score', 'SA12018_code']], 'left', left_on='SA1', right_on='SA12018_code').drop('SA12018_code', axis=1)",
      "execution_count": 20,
      "outputs": []
    },
    {
      "metadata": {},
      "cell_type": "markdown",
      "source": "#### Save dataframe with Deprivation index to csv"
    },
    {
      "metadata": {
        "trusted": true
      },
      "cell_type": "code",
      "source": "df.to_csv('add-deprivation.csv')",
      "execution_count": 21,
      "outputs": []
    }
  ],
  "metadata": {
    "kernelspec": {
      "name": "python36",
      "display_name": "Python 3.6",
      "language": "python"
    },
    "language_info": {
      "mimetype": "text/x-python",
      "nbconvert_exporter": "python",
      "name": "python",
      "pygments_lexer": "ipython3",
      "version": "3.6.6",
      "file_extension": ".py",
      "codemirror_mode": {
        "version": 3,
        "name": "ipython"
      }
    }
  },
  "nbformat": 4,
  "nbformat_minor": 1
}