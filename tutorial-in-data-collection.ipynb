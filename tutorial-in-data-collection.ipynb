{
  "cells": [
    {
      "metadata": {
        "trusted": true
      },
      "cell_type": "code",
      "source": "import json\nimport sys\nsys.path.append('/home/nbuser/library')\nimport time\nimport pandas as pd\nimport requests",
      "execution_count": 43,
      "outputs": []
    },
    {
      "metadata": {
        "trusted": true
      },
      "cell_type": "code",
      "source": "def get_latlon(address):\n    ''' Takes an address as an input, returns latitude and longitude coordinates. '''\n    \n    time.sleep(0.2)\n    \n    url = 'https://us1.locationiq.com/v1/search.php'\n\n    params = {\n        'key': '3e10ca48173365',\n        'q': address,\n        'format': 'json',\n    }\n\n    response = requests.get(url, params=params)\n    \n    if response.status_code != 200:\n        return pd.Series({'Latitude': response.status_code, 'Longitude': response.status_code})\n\n    lat = response.json()[0]['lat']\n    lon = response.json()[0]['lon']\n    \n    return pd.Series({'Latitude': lat, 'Longitude': lon})",
      "execution_count": 44,
      "outputs": []
    },
    {
      "metadata": {
        "trusted": true
      },
      "cell_type": "code",
      "source": "get_latlon('26 Symonds Road, Auckland')",
      "execution_count": 45,
      "outputs": [
        {
          "output_type": "execute_result",
          "execution_count": 45,
          "data": {
            "text/plain": "Latitude     -36.853934\nLongitude    174.768672\ndtype: object"
          },
          "metadata": {}
        }
      ]
    },
    {
      "metadata": {
        "trusted": true
      },
      "cell_type": "code",
      "source": "#### Finding lat and lon for every property in file",
      "execution_count": 20,
      "outputs": []
    },
    {
      "metadata": {
        "trusted": true
      },
      "cell_type": "code",
      "source": "df = pd.read_csv('Properties.csv')",
      "execution_count": 46,
      "outputs": []
    },
    {
      "metadata": {
        "trusted": true
      },
      "cell_type": "code",
      "source": "df.head()",
      "execution_count": 47,
      "outputs": [
        {
          "output_type": "execute_result",
          "execution_count": 47,
          "data": {
            "text/html": "<div>\n<style scoped>\n    .dataframe tbody tr th:only-of-type {\n        vertical-align: middle;\n    }\n\n    .dataframe tbody tr th {\n        vertical-align: top;\n    }\n\n    .dataframe thead th {\n        text-align: right;\n    }\n</style>\n<table border=\"1\" class=\"dataframe\">\n  <thead>\n    <tr style=\"text-align: right;\">\n      <th></th>\n      <th>Bedrooms</th>\n      <th>Bathrooms</th>\n      <th>Address</th>\n      <th>Land area</th>\n      <th>CV</th>\n      <th>Latitude</th>\n      <th>Longitude</th>\n      <th>SA1</th>\n      <th>0-19 years</th>\n      <th>20-29 years</th>\n      <th>30-39 years</th>\n      <th>40-49 years</th>\n      <th>50-59 years</th>\n      <th>60+ years</th>\n      <th>Suburbs</th>\n    </tr>\n  </thead>\n  <tbody>\n    <tr>\n      <th>0</th>\n      <td>5</td>\n      <td>3.0</td>\n      <td>106 Lawrence Crescent Hill Park, Auckland</td>\n      <td>714</td>\n      <td>960000</td>\n      <td>-37.012920</td>\n      <td>174.904069</td>\n      <td>7009770</td>\n      <td>48</td>\n      <td>27</td>\n      <td>24</td>\n      <td>21</td>\n      <td>24</td>\n      <td>21</td>\n      <td>Manurewa</td>\n    </tr>\n    <tr>\n      <th>1</th>\n      <td>5</td>\n      <td>3.0</td>\n      <td>8 Corsica Way Karaka, Auckland</td>\n      <td>564</td>\n      <td>1250000</td>\n      <td>-37.063672</td>\n      <td>174.922912</td>\n      <td>7009991</td>\n      <td>42</td>\n      <td>18</td>\n      <td>12</td>\n      <td>21</td>\n      <td>15</td>\n      <td>30</td>\n      <td>Karaka</td>\n    </tr>\n    <tr>\n      <th>2</th>\n      <td>6</td>\n      <td>4.0</td>\n      <td>243 Harbourside Drive Karaka, Auckland</td>\n      <td>626</td>\n      <td>1250000</td>\n      <td>-37.063580</td>\n      <td>174.924044</td>\n      <td>7009991</td>\n      <td>42</td>\n      <td>18</td>\n      <td>12</td>\n      <td>21</td>\n      <td>15</td>\n      <td>30</td>\n      <td>Karaka</td>\n    </tr>\n    <tr>\n      <th>3</th>\n      <td>2</td>\n      <td>1.0</td>\n      <td>2/30 Hardington Street Onehunga, Auckland</td>\n      <td>65</td>\n      <td>740000</td>\n      <td>-36.912996</td>\n      <td>174.787425</td>\n      <td>7007871</td>\n      <td>42</td>\n      <td>6</td>\n      <td>21</td>\n      <td>21</td>\n      <td>12</td>\n      <td>15</td>\n      <td>Onehunga</td>\n    </tr>\n    <tr>\n      <th>4</th>\n      <td>3</td>\n      <td>1.0</td>\n      <td>59 Israel Avenue Clover Park, Auckland</td>\n      <td>601</td>\n      <td>630000</td>\n      <td>-36.979037</td>\n      <td>174.892612</td>\n      <td>7008902</td>\n      <td>93</td>\n      <td>27</td>\n      <td>33</td>\n      <td>30</td>\n      <td>21</td>\n      <td>33</td>\n      <td>Clover Park</td>\n    </tr>\n  </tbody>\n</table>\n</div>",
            "text/plain": "   Bedrooms  Bathrooms                                    Address Land area  \\\n0         5        3.0  106 Lawrence Crescent Hill Park, Auckland       714   \n1         5        3.0             8 Corsica Way Karaka, Auckland       564   \n2         6        4.0     243 Harbourside Drive Karaka, Auckland       626   \n3         2        1.0  2/30 Hardington Street Onehunga, Auckland        65   \n4         3        1.0     59 Israel Avenue Clover Park, Auckland       601   \n\n        CV   Latitude   Longitude      SA1  0-19 years  20-29 years  \\\n0   960000 -37.012920  174.904069  7009770          48           27   \n1  1250000 -37.063672  174.922912  7009991          42           18   \n2  1250000 -37.063580  174.924044  7009991          42           18   \n3   740000 -36.912996  174.787425  7007871          42            6   \n4   630000 -36.979037  174.892612  7008902          93           27   \n\n   30-39 years  40-49 years  50-59 years  60+ years      Suburbs  \n0           24           21           24         21     Manurewa  \n1           12           21           15         30       Karaka  \n2           12           21           15         30       Karaka  \n3           21           21           12         15     Onehunga  \n4           33           30           21         33  Clover Park  "
          },
          "metadata": {}
        }
      ]
    },
    {
      "metadata": {
        "trusted": true
      },
      "cell_type": "code",
      "source": "df = df.drop(columns=['Latitude','Longitude','SA1'])",
      "execution_count": 48,
      "outputs": []
    },
    {
      "metadata": {
        "trusted": true
      },
      "cell_type": "code",
      "source": "df.head()",
      "execution_count": 49,
      "outputs": [
        {
          "output_type": "execute_result",
          "execution_count": 49,
          "data": {
            "text/html": "<div>\n<style scoped>\n    .dataframe tbody tr th:only-of-type {\n        vertical-align: middle;\n    }\n\n    .dataframe tbody tr th {\n        vertical-align: top;\n    }\n\n    .dataframe thead th {\n        text-align: right;\n    }\n</style>\n<table border=\"1\" class=\"dataframe\">\n  <thead>\n    <tr style=\"text-align: right;\">\n      <th></th>\n      <th>Bedrooms</th>\n      <th>Bathrooms</th>\n      <th>Address</th>\n      <th>Land area</th>\n      <th>CV</th>\n      <th>0-19 years</th>\n      <th>20-29 years</th>\n      <th>30-39 years</th>\n      <th>40-49 years</th>\n      <th>50-59 years</th>\n      <th>60+ years</th>\n      <th>Suburbs</th>\n    </tr>\n  </thead>\n  <tbody>\n    <tr>\n      <th>0</th>\n      <td>5</td>\n      <td>3.0</td>\n      <td>106 Lawrence Crescent Hill Park, Auckland</td>\n      <td>714</td>\n      <td>960000</td>\n      <td>48</td>\n      <td>27</td>\n      <td>24</td>\n      <td>21</td>\n      <td>24</td>\n      <td>21</td>\n      <td>Manurewa</td>\n    </tr>\n    <tr>\n      <th>1</th>\n      <td>5</td>\n      <td>3.0</td>\n      <td>8 Corsica Way Karaka, Auckland</td>\n      <td>564</td>\n      <td>1250000</td>\n      <td>42</td>\n      <td>18</td>\n      <td>12</td>\n      <td>21</td>\n      <td>15</td>\n      <td>30</td>\n      <td>Karaka</td>\n    </tr>\n    <tr>\n      <th>2</th>\n      <td>6</td>\n      <td>4.0</td>\n      <td>243 Harbourside Drive Karaka, Auckland</td>\n      <td>626</td>\n      <td>1250000</td>\n      <td>42</td>\n      <td>18</td>\n      <td>12</td>\n      <td>21</td>\n      <td>15</td>\n      <td>30</td>\n      <td>Karaka</td>\n    </tr>\n    <tr>\n      <th>3</th>\n      <td>2</td>\n      <td>1.0</td>\n      <td>2/30 Hardington Street Onehunga, Auckland</td>\n      <td>65</td>\n      <td>740000</td>\n      <td>42</td>\n      <td>6</td>\n      <td>21</td>\n      <td>21</td>\n      <td>12</td>\n      <td>15</td>\n      <td>Onehunga</td>\n    </tr>\n    <tr>\n      <th>4</th>\n      <td>3</td>\n      <td>1.0</td>\n      <td>59 Israel Avenue Clover Park, Auckland</td>\n      <td>601</td>\n      <td>630000</td>\n      <td>93</td>\n      <td>27</td>\n      <td>33</td>\n      <td>30</td>\n      <td>21</td>\n      <td>33</td>\n      <td>Clover Park</td>\n    </tr>\n  </tbody>\n</table>\n</div>",
            "text/plain": "   Bedrooms  Bathrooms                                    Address Land area  \\\n0         5        3.0  106 Lawrence Crescent Hill Park, Auckland       714   \n1         5        3.0             8 Corsica Way Karaka, Auckland       564   \n2         6        4.0     243 Harbourside Drive Karaka, Auckland       626   \n3         2        1.0  2/30 Hardington Street Onehunga, Auckland        65   \n4         3        1.0     59 Israel Avenue Clover Park, Auckland       601   \n\n        CV  0-19 years  20-29 years  30-39 years  40-49 years  50-59 years  \\\n0   960000          48           27           24           21           24   \n1  1250000          42           18           12           21           15   \n2  1250000          42           18           12           21           15   \n3   740000          42            6           21           21           12   \n4   630000          93           27           33           30           21   \n\n   60+ years      Suburbs  \n0         21     Manurewa  \n1         30       Karaka  \n2         30       Karaka  \n3         15     Onehunga  \n4         33  Clover Park  "
          },
          "metadata": {}
        }
      ]
    },
    {
      "metadata": {
        "trusted": true
      },
      "cell_type": "code",
      "source": "df[['Latitude','Longitude']] = df.Address.apply(get_latlon)",
      "execution_count": 51,
      "outputs": []
    },
    {
      "metadata": {
        "trusted": true
      },
      "cell_type": "code",
      "source": "def combine_lat_lon(lat, lon):\n    return (lat, lon)",
      "execution_count": 52,
      "outputs": []
    },
    {
      "metadata": {
        "trusted": true
      },
      "cell_type": "code",
      "source": "df['Combined coordinates'] = df.apply(lambda x : combine_lat_lon(x['Latitude'], x['Longitude']), axis = 1)",
      "execution_count": 53,
      "outputs": []
    },
    {
      "metadata": {
        "trusted": true
      },
      "cell_type": "code",
      "source": "df.head()",
      "execution_count": 54,
      "outputs": [
        {
          "output_type": "execute_result",
          "execution_count": 54,
          "data": {
            "text/html": "<div>\n<style scoped>\n    .dataframe tbody tr th:only-of-type {\n        vertical-align: middle;\n    }\n\n    .dataframe tbody tr th {\n        vertical-align: top;\n    }\n\n    .dataframe thead th {\n        text-align: right;\n    }\n</style>\n<table border=\"1\" class=\"dataframe\">\n  <thead>\n    <tr style=\"text-align: right;\">\n      <th></th>\n      <th>Bedrooms</th>\n      <th>Bathrooms</th>\n      <th>Address</th>\n      <th>Land area</th>\n      <th>CV</th>\n      <th>0-19 years</th>\n      <th>20-29 years</th>\n      <th>30-39 years</th>\n      <th>40-49 years</th>\n      <th>50-59 years</th>\n      <th>60+ years</th>\n      <th>Suburbs</th>\n      <th>Latitude</th>\n      <th>Longitude</th>\n      <th>Combined coordinates</th>\n    </tr>\n  </thead>\n  <tbody>\n    <tr>\n      <th>0</th>\n      <td>5</td>\n      <td>3.0</td>\n      <td>106 Lawrence Crescent Hill Park, Auckland</td>\n      <td>714</td>\n      <td>960000</td>\n      <td>48</td>\n      <td>27</td>\n      <td>24</td>\n      <td>21</td>\n      <td>24</td>\n      <td>21</td>\n      <td>Manurewa</td>\n      <td>-37.012914</td>\n      <td>174.903973</td>\n      <td>(-37.012914, 174.903973)</td>\n    </tr>\n    <tr>\n      <th>1</th>\n      <td>5</td>\n      <td>3.0</td>\n      <td>8 Corsica Way Karaka, Auckland</td>\n      <td>564</td>\n      <td>1250000</td>\n      <td>42</td>\n      <td>18</td>\n      <td>12</td>\n      <td>21</td>\n      <td>15</td>\n      <td>30</td>\n      <td>Karaka</td>\n      <td>-37.0636507</td>\n      <td>174.9228185</td>\n      <td>(-37.0636507, 174.9228185)</td>\n    </tr>\n    <tr>\n      <th>2</th>\n      <td>6</td>\n      <td>4.0</td>\n      <td>243 Harbourside Drive Karaka, Auckland</td>\n      <td>626</td>\n      <td>1250000</td>\n      <td>42</td>\n      <td>18</td>\n      <td>12</td>\n      <td>21</td>\n      <td>15</td>\n      <td>30</td>\n      <td>Karaka</td>\n      <td>429</td>\n      <td>429</td>\n      <td>(429, 429)</td>\n    </tr>\n    <tr>\n      <th>3</th>\n      <td>2</td>\n      <td>1.0</td>\n      <td>2/30 Hardington Street Onehunga, Auckland</td>\n      <td>65</td>\n      <td>740000</td>\n      <td>42</td>\n      <td>6</td>\n      <td>21</td>\n      <td>21</td>\n      <td>12</td>\n      <td>15</td>\n      <td>Onehunga</td>\n      <td>-36.91325</td>\n      <td>174.7874144</td>\n      <td>(-36.91325, 174.7874144)</td>\n    </tr>\n    <tr>\n      <th>4</th>\n      <td>3</td>\n      <td>1.0</td>\n      <td>59 Israel Avenue Clover Park, Auckland</td>\n      <td>601</td>\n      <td>630000</td>\n      <td>93</td>\n      <td>27</td>\n      <td>33</td>\n      <td>30</td>\n      <td>21</td>\n      <td>33</td>\n      <td>Clover Park</td>\n      <td>-36.9789324</td>\n      <td>174.8926273</td>\n      <td>(-36.9789324, 174.8926273)</td>\n    </tr>\n  </tbody>\n</table>\n</div>",
            "text/plain": "   Bedrooms  Bathrooms                                    Address Land area  \\\n0         5        3.0  106 Lawrence Crescent Hill Park, Auckland       714   \n1         5        3.0             8 Corsica Way Karaka, Auckland       564   \n2         6        4.0     243 Harbourside Drive Karaka, Auckland       626   \n3         2        1.0  2/30 Hardington Street Onehunga, Auckland        65   \n4         3        1.0     59 Israel Avenue Clover Park, Auckland       601   \n\n        CV  0-19 years  20-29 years  30-39 years  40-49 years  50-59 years  \\\n0   960000          48           27           24           21           24   \n1  1250000          42           18           12           21           15   \n2  1250000          42           18           12           21           15   \n3   740000          42            6           21           21           12   \n4   630000          93           27           33           30           21   \n\n   60+ years      Suburbs     Latitude    Longitude  \\\n0         21     Manurewa   -37.012914   174.903973   \n1         30       Karaka  -37.0636507  174.9228185   \n2         30       Karaka          429          429   \n3         15     Onehunga    -36.91325  174.7874144   \n4         33  Clover Park  -36.9789324  174.8926273   \n\n         Combined coordinates  \n0    (-37.012914, 174.903973)  \n1  (-37.0636507, 174.9228185)  \n2                  (429, 429)  \n3    (-36.91325, 174.7874144)  \n4  (-36.9789324, 174.8926273)  "
          },
          "metadata": {}
        }
      ]
    }
  ],
  "metadata": {
    "kernelspec": {
      "name": "python36",
      "display_name": "Python 3.6",
      "language": "python"
    },
    "language_info": {
      "mimetype": "text/x-python",
      "nbconvert_exporter": "python",
      "name": "python",
      "pygments_lexer": "ipython3",
      "version": "3.6.6",
      "file_extension": ".py",
      "codemirror_mode": {
        "version": 3,
        "name": "ipython"
      }
    }
  },
  "nbformat": 4,
  "nbformat_minor": 2
}